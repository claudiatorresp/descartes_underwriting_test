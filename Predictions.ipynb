{
 "cells": [
  {
   "cell_type": "code",
   "execution_count": 33,
   "id": "dated-september",
   "metadata": {},
   "outputs": [],
   "source": [
    "import pandas as pd\n",
    "import numpy as np\n",
    "import matplotlib.pyplot as plt\n",
    "\n",
    "from sklearn.ensemble import RandomForestClassifier\n",
    "from sklearn.svm import SVC\n",
    "from sklearn.model_selection import GridSearchCV\n",
    "from sklearn.metrics import f1_score, recall_score, precision_score, confusion_matrix\n",
    "from sklearn.decomposition import PCA\n",
    "from sklearn.model_selection import train_test_split\n",
    "\n",
    "\n",
    "from sklearn.pipeline import make_pipeline\n",
    "from sklearn.preprocessing import StandardScaler\n",
    "\n",
    "plt.rcParams['figure.figsize'] = [10, 5]\n",
    "\n"
   ]
  },
  {
   "cell_type": "markdown",
   "id": "governing-channel",
   "metadata": {},
   "source": [
    "# Import the data"
   ]
  },
  {
   "cell_type": "code",
   "execution_count": 2,
   "id": "deluxe-thesaurus",
   "metadata": {},
   "outputs": [],
   "source": [
    "df_train = pd.read_csv('train_auto.csv', index_col='INDEX')\n",
    "df_test = pd.read_csv('test_auto.csv', index_col='INDEX')"
   ]
  },
  {
   "cell_type": "markdown",
   "id": "frozen-tissue",
   "metadata": {},
   "source": [
    "# Data Analysis"
   ]
  },
  {
   "cell_type": "code",
   "execution_count": 3,
   "id": "logical-strike",
   "metadata": {},
   "outputs": [
    {
     "data": {
      "text/html": [
       "<div>\n",
       "<style scoped>\n",
       "    .dataframe tbody tr th:only-of-type {\n",
       "        vertical-align: middle;\n",
       "    }\n",
       "\n",
       "    .dataframe tbody tr th {\n",
       "        vertical-align: top;\n",
       "    }\n",
       "\n",
       "    .dataframe thead th {\n",
       "        text-align: right;\n",
       "    }\n",
       "</style>\n",
       "<table border=\"1\" class=\"dataframe\">\n",
       "  <thead>\n",
       "    <tr style=\"text-align: right;\">\n",
       "      <th></th>\n",
       "      <th>TARGET_FLAG</th>\n",
       "      <th>TARGET_AMT</th>\n",
       "      <th>KIDSDRIV</th>\n",
       "      <th>AGE</th>\n",
       "      <th>HOMEKIDS</th>\n",
       "      <th>YOJ</th>\n",
       "      <th>TRAVTIME</th>\n",
       "      <th>TIF</th>\n",
       "      <th>CLM_FREQ</th>\n",
       "      <th>MVR_PTS</th>\n",
       "      <th>CAR_AGE</th>\n",
       "    </tr>\n",
       "  </thead>\n",
       "  <tbody>\n",
       "    <tr>\n",
       "      <th>count</th>\n",
       "      <td>8161.000000</td>\n",
       "      <td>8161.000000</td>\n",
       "      <td>8161.000000</td>\n",
       "      <td>8155.000000</td>\n",
       "      <td>8161.000000</td>\n",
       "      <td>7707.000000</td>\n",
       "      <td>8161.000000</td>\n",
       "      <td>8161.000000</td>\n",
       "      <td>8161.000000</td>\n",
       "      <td>8161.000000</td>\n",
       "      <td>7651.000000</td>\n",
       "    </tr>\n",
       "    <tr>\n",
       "      <th>mean</th>\n",
       "      <td>0.263816</td>\n",
       "      <td>1504.324648</td>\n",
       "      <td>0.171057</td>\n",
       "      <td>44.790313</td>\n",
       "      <td>0.721235</td>\n",
       "      <td>10.499286</td>\n",
       "      <td>33.485725</td>\n",
       "      <td>5.351305</td>\n",
       "      <td>0.798554</td>\n",
       "      <td>1.695503</td>\n",
       "      <td>8.328323</td>\n",
       "    </tr>\n",
       "    <tr>\n",
       "      <th>std</th>\n",
       "      <td>0.440728</td>\n",
       "      <td>4704.026930</td>\n",
       "      <td>0.511534</td>\n",
       "      <td>8.627589</td>\n",
       "      <td>1.116323</td>\n",
       "      <td>4.092474</td>\n",
       "      <td>15.908333</td>\n",
       "      <td>4.146635</td>\n",
       "      <td>1.158453</td>\n",
       "      <td>2.147112</td>\n",
       "      <td>5.700742</td>\n",
       "    </tr>\n",
       "    <tr>\n",
       "      <th>min</th>\n",
       "      <td>0.000000</td>\n",
       "      <td>0.000000</td>\n",
       "      <td>0.000000</td>\n",
       "      <td>16.000000</td>\n",
       "      <td>0.000000</td>\n",
       "      <td>0.000000</td>\n",
       "      <td>5.000000</td>\n",
       "      <td>1.000000</td>\n",
       "      <td>0.000000</td>\n",
       "      <td>0.000000</td>\n",
       "      <td>-3.000000</td>\n",
       "    </tr>\n",
       "    <tr>\n",
       "      <th>25%</th>\n",
       "      <td>0.000000</td>\n",
       "      <td>0.000000</td>\n",
       "      <td>0.000000</td>\n",
       "      <td>39.000000</td>\n",
       "      <td>0.000000</td>\n",
       "      <td>9.000000</td>\n",
       "      <td>22.000000</td>\n",
       "      <td>1.000000</td>\n",
       "      <td>0.000000</td>\n",
       "      <td>0.000000</td>\n",
       "      <td>1.000000</td>\n",
       "    </tr>\n",
       "    <tr>\n",
       "      <th>50%</th>\n",
       "      <td>0.000000</td>\n",
       "      <td>0.000000</td>\n",
       "      <td>0.000000</td>\n",
       "      <td>45.000000</td>\n",
       "      <td>0.000000</td>\n",
       "      <td>11.000000</td>\n",
       "      <td>33.000000</td>\n",
       "      <td>4.000000</td>\n",
       "      <td>0.000000</td>\n",
       "      <td>1.000000</td>\n",
       "      <td>8.000000</td>\n",
       "    </tr>\n",
       "    <tr>\n",
       "      <th>75%</th>\n",
       "      <td>1.000000</td>\n",
       "      <td>1036.000000</td>\n",
       "      <td>0.000000</td>\n",
       "      <td>51.000000</td>\n",
       "      <td>1.000000</td>\n",
       "      <td>13.000000</td>\n",
       "      <td>44.000000</td>\n",
       "      <td>7.000000</td>\n",
       "      <td>2.000000</td>\n",
       "      <td>3.000000</td>\n",
       "      <td>12.000000</td>\n",
       "    </tr>\n",
       "    <tr>\n",
       "      <th>max</th>\n",
       "      <td>1.000000</td>\n",
       "      <td>107586.136200</td>\n",
       "      <td>4.000000</td>\n",
       "      <td>81.000000</td>\n",
       "      <td>5.000000</td>\n",
       "      <td>23.000000</td>\n",
       "      <td>142.000000</td>\n",
       "      <td>25.000000</td>\n",
       "      <td>5.000000</td>\n",
       "      <td>13.000000</td>\n",
       "      <td>28.000000</td>\n",
       "    </tr>\n",
       "  </tbody>\n",
       "</table>\n",
       "</div>"
      ],
      "text/plain": [
       "       TARGET_FLAG     TARGET_AMT     KIDSDRIV          AGE     HOMEKIDS  \\\n",
       "count  8161.000000    8161.000000  8161.000000  8155.000000  8161.000000   \n",
       "mean      0.263816    1504.324648     0.171057    44.790313     0.721235   \n",
       "std       0.440728    4704.026930     0.511534     8.627589     1.116323   \n",
       "min       0.000000       0.000000     0.000000    16.000000     0.000000   \n",
       "25%       0.000000       0.000000     0.000000    39.000000     0.000000   \n",
       "50%       0.000000       0.000000     0.000000    45.000000     0.000000   \n",
       "75%       1.000000    1036.000000     0.000000    51.000000     1.000000   \n",
       "max       1.000000  107586.136200     4.000000    81.000000     5.000000   \n",
       "\n",
       "               YOJ     TRAVTIME          TIF     CLM_FREQ      MVR_PTS  \\\n",
       "count  7707.000000  8161.000000  8161.000000  8161.000000  8161.000000   \n",
       "mean     10.499286    33.485725     5.351305     0.798554     1.695503   \n",
       "std       4.092474    15.908333     4.146635     1.158453     2.147112   \n",
       "min       0.000000     5.000000     1.000000     0.000000     0.000000   \n",
       "25%       9.000000    22.000000     1.000000     0.000000     0.000000   \n",
       "50%      11.000000    33.000000     4.000000     0.000000     1.000000   \n",
       "75%      13.000000    44.000000     7.000000     2.000000     3.000000   \n",
       "max      23.000000   142.000000    25.000000     5.000000    13.000000   \n",
       "\n",
       "           CAR_AGE  \n",
       "count  7651.000000  \n",
       "mean      8.328323  \n",
       "std       5.700742  \n",
       "min      -3.000000  \n",
       "25%       1.000000  \n",
       "50%       8.000000  \n",
       "75%      12.000000  \n",
       "max      28.000000  "
      ]
     },
     "execution_count": 3,
     "metadata": {},
     "output_type": "execute_result"
    }
   ],
   "source": [
    "df_train.describe()"
   ]
  },
  {
   "cell_type": "code",
   "execution_count": 4,
   "id": "broken-documentary",
   "metadata": {},
   "outputs": [
    {
     "data": {
      "text/html": [
       "<div>\n",
       "<style scoped>\n",
       "    .dataframe tbody tr th:only-of-type {\n",
       "        vertical-align: middle;\n",
       "    }\n",
       "\n",
       "    .dataframe tbody tr th {\n",
       "        vertical-align: top;\n",
       "    }\n",
       "\n",
       "    .dataframe thead th {\n",
       "        text-align: right;\n",
       "    }\n",
       "</style>\n",
       "<table border=\"1\" class=\"dataframe\">\n",
       "  <thead>\n",
       "    <tr style=\"text-align: right;\">\n",
       "      <th></th>\n",
       "      <th>TARGET_FLAG</th>\n",
       "      <th>TARGET_AMT</th>\n",
       "      <th>KIDSDRIV</th>\n",
       "      <th>AGE</th>\n",
       "      <th>HOMEKIDS</th>\n",
       "      <th>YOJ</th>\n",
       "      <th>TRAVTIME</th>\n",
       "      <th>TIF</th>\n",
       "      <th>CLM_FREQ</th>\n",
       "      <th>MVR_PTS</th>\n",
       "      <th>CAR_AGE</th>\n",
       "    </tr>\n",
       "  </thead>\n",
       "  <tbody>\n",
       "    <tr>\n",
       "      <th>count</th>\n",
       "      <td>0.0</td>\n",
       "      <td>0.0</td>\n",
       "      <td>2141.000000</td>\n",
       "      <td>2140.000000</td>\n",
       "      <td>2141.000000</td>\n",
       "      <td>2047.000000</td>\n",
       "      <td>2141.000000</td>\n",
       "      <td>2141.000000</td>\n",
       "      <td>2141.000000</td>\n",
       "      <td>2141.000000</td>\n",
       "      <td>2012.000000</td>\n",
       "    </tr>\n",
       "    <tr>\n",
       "      <th>mean</th>\n",
       "      <td>NaN</td>\n",
       "      <td>NaN</td>\n",
       "      <td>0.162541</td>\n",
       "      <td>45.016822</td>\n",
       "      <td>0.717422</td>\n",
       "      <td>10.379091</td>\n",
       "      <td>33.152265</td>\n",
       "      <td>5.244745</td>\n",
       "      <td>0.808968</td>\n",
       "      <td>1.765997</td>\n",
       "      <td>8.183400</td>\n",
       "    </tr>\n",
       "    <tr>\n",
       "      <th>std</th>\n",
       "      <td>NaN</td>\n",
       "      <td>NaN</td>\n",
       "      <td>0.486949</td>\n",
       "      <td>8.525006</td>\n",
       "      <td>1.116579</td>\n",
       "      <td>4.170008</td>\n",
       "      <td>15.722393</td>\n",
       "      <td>3.971026</td>\n",
       "      <td>1.137481</td>\n",
       "      <td>2.203413</td>\n",
       "      <td>5.766263</td>\n",
       "    </tr>\n",
       "    <tr>\n",
       "      <th>min</th>\n",
       "      <td>NaN</td>\n",
       "      <td>NaN</td>\n",
       "      <td>0.000000</td>\n",
       "      <td>17.000000</td>\n",
       "      <td>0.000000</td>\n",
       "      <td>0.000000</td>\n",
       "      <td>5.000000</td>\n",
       "      <td>1.000000</td>\n",
       "      <td>0.000000</td>\n",
       "      <td>0.000000</td>\n",
       "      <td>0.000000</td>\n",
       "    </tr>\n",
       "    <tr>\n",
       "      <th>25%</th>\n",
       "      <td>NaN</td>\n",
       "      <td>NaN</td>\n",
       "      <td>0.000000</td>\n",
       "      <td>39.000000</td>\n",
       "      <td>0.000000</td>\n",
       "      <td>9.000000</td>\n",
       "      <td>22.000000</td>\n",
       "      <td>1.000000</td>\n",
       "      <td>0.000000</td>\n",
       "      <td>0.000000</td>\n",
       "      <td>1.000000</td>\n",
       "    </tr>\n",
       "    <tr>\n",
       "      <th>50%</th>\n",
       "      <td>NaN</td>\n",
       "      <td>NaN</td>\n",
       "      <td>0.000000</td>\n",
       "      <td>45.000000</td>\n",
       "      <td>0.000000</td>\n",
       "      <td>11.000000</td>\n",
       "      <td>33.000000</td>\n",
       "      <td>4.000000</td>\n",
       "      <td>0.000000</td>\n",
       "      <td>1.000000</td>\n",
       "      <td>8.000000</td>\n",
       "    </tr>\n",
       "    <tr>\n",
       "      <th>75%</th>\n",
       "      <td>NaN</td>\n",
       "      <td>NaN</td>\n",
       "      <td>0.000000</td>\n",
       "      <td>51.000000</td>\n",
       "      <td>1.000000</td>\n",
       "      <td>13.000000</td>\n",
       "      <td>43.000000</td>\n",
       "      <td>7.000000</td>\n",
       "      <td>2.000000</td>\n",
       "      <td>3.000000</td>\n",
       "      <td>12.000000</td>\n",
       "    </tr>\n",
       "    <tr>\n",
       "      <th>max</th>\n",
       "      <td>NaN</td>\n",
       "      <td>NaN</td>\n",
       "      <td>3.000000</td>\n",
       "      <td>73.000000</td>\n",
       "      <td>5.000000</td>\n",
       "      <td>19.000000</td>\n",
       "      <td>105.000000</td>\n",
       "      <td>25.000000</td>\n",
       "      <td>5.000000</td>\n",
       "      <td>12.000000</td>\n",
       "      <td>26.000000</td>\n",
       "    </tr>\n",
       "  </tbody>\n",
       "</table>\n",
       "</div>"
      ],
      "text/plain": [
       "       TARGET_FLAG  TARGET_AMT     KIDSDRIV          AGE     HOMEKIDS  \\\n",
       "count          0.0         0.0  2141.000000  2140.000000  2141.000000   \n",
       "mean           NaN         NaN     0.162541    45.016822     0.717422   \n",
       "std            NaN         NaN     0.486949     8.525006     1.116579   \n",
       "min            NaN         NaN     0.000000    17.000000     0.000000   \n",
       "25%            NaN         NaN     0.000000    39.000000     0.000000   \n",
       "50%            NaN         NaN     0.000000    45.000000     0.000000   \n",
       "75%            NaN         NaN     0.000000    51.000000     1.000000   \n",
       "max            NaN         NaN     3.000000    73.000000     5.000000   \n",
       "\n",
       "               YOJ     TRAVTIME          TIF     CLM_FREQ      MVR_PTS  \\\n",
       "count  2047.000000  2141.000000  2141.000000  2141.000000  2141.000000   \n",
       "mean     10.379091    33.152265     5.244745     0.808968     1.765997   \n",
       "std       4.170008    15.722393     3.971026     1.137481     2.203413   \n",
       "min       0.000000     5.000000     1.000000     0.000000     0.000000   \n",
       "25%       9.000000    22.000000     1.000000     0.000000     0.000000   \n",
       "50%      11.000000    33.000000     4.000000     0.000000     1.000000   \n",
       "75%      13.000000    43.000000     7.000000     2.000000     3.000000   \n",
       "max      19.000000   105.000000    25.000000     5.000000    12.000000   \n",
       "\n",
       "           CAR_AGE  \n",
       "count  2012.000000  \n",
       "mean      8.183400  \n",
       "std       5.766263  \n",
       "min       0.000000  \n",
       "25%       1.000000  \n",
       "50%       8.000000  \n",
       "75%      12.000000  \n",
       "max      26.000000  "
      ]
     },
     "execution_count": 4,
     "metadata": {},
     "output_type": "execute_result"
    }
   ],
   "source": [
    "df_test.describe()"
   ]
  },
  {
   "cell_type": "markdown",
   "id": "casual-attention",
   "metadata": {},
   "source": [
    "The description of the continuous variables does not highlight any anomalies, other than a minimal value of -3 for the car age. We can easily change this value, and other negative ones, to 0 for example, to get it back to normal."
   ]
  },
  {
   "cell_type": "code",
   "execution_count": 5,
   "id": "considerable-jackson",
   "metadata": {},
   "outputs": [],
   "source": [
    "df_train.CAR_AGE = df_train.CAR_AGE.apply(lambda x: 0 if x < 0 else x)\n",
    "df_test.CAR_AGE = df_test.CAR_AGE.apply(lambda x: 0 if x < 0 else x)\n"
   ]
  },
  {
   "cell_type": "code",
   "execution_count": 6,
   "id": "exact-talent",
   "metadata": {},
   "outputs": [
    {
     "name": "stdout",
     "output_type": "stream",
     "text": [
      "There are 2153 positive records and 6008 negative ones\n",
      "That represents 26.38% positive classes\n"
     ]
    }
   ],
   "source": [
    "print(f\"There are {df_train.TARGET_FLAG.sum()} positive records and {(1-df_train.TARGET_FLAG).sum()} negative ones\")\n",
    "print(f\"That represents {df_train.TARGET_FLAG.sum() / len(df_train)* 100:.2f}% positive classes\")"
   ]
  },
  {
   "cell_type": "markdown",
   "id": "palestinian-cable",
   "metadata": {},
   "source": [
    "We are dealing with a classification problem. Given that our data seems to be imbalancedbalanced, it is best to use the F1 score instead of the accuracy as evaluation metrics."
   ]
  },
  {
   "cell_type": "markdown",
   "id": "accurate-fossil",
   "metadata": {},
   "source": [
    "## Preprocess the columns"
   ]
  },
  {
   "cell_type": "code",
   "execution_count": 7,
   "id": "appointed-tours",
   "metadata": {},
   "outputs": [],
   "source": [
    "# Create new df to keep the processed columns\n",
    "X_train = pd.DataFrame(index=df_train.index)\n",
    "X_test = pd.DataFrame(index=df_test.index)\n",
    "\n",
    "y_train = df_train[\"TARGET_FLAG\"]\n",
    "y_test = pd.DataFrame(index=df_test.index)\n"
   ]
  },
  {
   "cell_type": "markdown",
   "id": "acute-polish",
   "metadata": {},
   "source": [
    "First we process the columns with string values that correspond to currency"
   ]
  },
  {
   "cell_type": "code",
   "execution_count": 8,
   "id": "latest-minority",
   "metadata": {},
   "outputs": [
    {
     "name": "stderr",
     "output_type": "stream",
     "text": [
      "/Users/Claudia/anaconda3/lib/python3.7/site-packages/ipykernel_launcher.py:3: FutureWarning: The default value of regex will change from True to False in a future version. In addition, single character regular expressions will*not* be treated as literal strings when regex=True.\n",
      "  This is separate from the ipykernel package so we can avoid doing imports until\n"
     ]
    }
   ],
   "source": [
    "def money_str_to_int(df):\n",
    "    df = df.str.replace(\",\", \"\")\n",
    "    df = df.str.replace(\"$\", \"\")\n",
    "    df = df.astype(\"float\")\n",
    "    df = df.fillna(df.mean())\n",
    "    return(df)\n",
    "\n",
    "X_train[\"home_val\"] = money_str_to_int(df_train.HOME_VAL)\n",
    "X_train[\"income\"] = money_str_to_int(df_train.INCOME)\n",
    "X_train[\"oldclaim\"] = money_str_to_int(df_train.OLDCLAIM)\n",
    "X_train[\"bluebook\"] = money_str_to_int(df_train.BLUEBOOK)\n",
    "\n",
    "X_test[\"home_val\"] = money_str_to_int(df_test.HOME_VAL)\n",
    "X_test[\"income\"] = money_str_to_int(df_test.INCOME)\n",
    "X_test[\"oldclaim\"] = money_str_to_int(df_test.OLDCLAIM)\n",
    "X_test[\"bluebook\"] = money_str_to_int(df_test.BLUEBOOK)\n",
    "\n",
    "    "
   ]
  },
  {
   "cell_type": "markdown",
   "id": "enabling-latter",
   "metadata": {},
   "source": [
    "Then we treat the categorical variables"
   ]
  },
  {
   "cell_type": "code",
   "execution_count": 9,
   "id": "premium-fundamental",
   "metadata": {},
   "outputs": [],
   "source": [
    "X_train[\"car_use_is_commercial\"] = df_train.CAR_USE == 'Commercial'\n",
    "X_train[\"is_red_car\"] = df_train.RED_CAR == 'yes'\n",
    "X_train[\"is_revoked\"] = df_train.REVOKED == 'Yes'\n",
    "X_train[\"is_parent1\"] = df_train.PARENT1 == 'Yes'\n",
    "X_train[\"is_urban\"] = df_train.URBANICITY == 'Highly Urban/ Urban'\n",
    "X_train[\"is_male\"] = df_train.SEX == 'M'\n",
    "X_train[\"is_married\"] = df_train.MSTATUS == 'Yes'\n",
    "\n",
    "X_test[\"car_use_is_commercial\"] = df_test.CAR_USE == 'Commercial'\n",
    "X_test[\"is_red_car\"] = df_test.RED_CAR == 'yes'\n",
    "X_test[\"is_revoked\"] = df_test.REVOKED == 'Yes'\n",
    "X_test[\"is_parent1\"] = df_test.PARENT1 == 'Yes'\n",
    "X_test[\"is_urban\"] = df_test.URBANICITY == 'Highly Urban/ Urban'\n",
    "X_test[\"is_male\"] = df_test.SEX == 'M'\n",
    "X_test[\"is_married\"] = df_test.MSTATUS == 'Yes'\n"
   ]
  },
  {
   "cell_type": "markdown",
   "id": "approved-street",
   "metadata": {},
   "source": [
    "We can apply a hierarchical encoding to the EDUCATION column"
   ]
  },
  {
   "cell_type": "code",
   "execution_count": 10,
   "id": "developing-escape",
   "metadata": {},
   "outputs": [],
   "source": [
    "dict_EDUCATION = {\n",
    "    \"<High School\": 0,\n",
    "    \"z_High School\": 1,\n",
    "    \"Bachelors\": 2,\n",
    "    \"Masters\": 3,\n",
    "    \"PhD\":4\n",
    "}\n",
    "\n",
    "X_train[\"education\"] = df_train.EDUCATION.map(dict_EDUCATION)\n",
    "X_test[\"education\"] = df_test.EDUCATION.map(dict_EDUCATION)\n"
   ]
  },
  {
   "cell_type": "markdown",
   "id": "gross-blond",
   "metadata": {},
   "source": [
    "And a one hot encoding to the columsn with several categories"
   ]
  },
  {
   "cell_type": "code",
   "execution_count": 11,
   "id": "peripheral-there",
   "metadata": {},
   "outputs": [],
   "source": [
    "def one_hot_columns(df_to_encode, df):\n",
    "    df_to_encode = df_to_encode.fillna('None')\n",
    "    col_one_hot = pd.get_dummies(df_to_encode)\n",
    "    df = pd.concat([df, col_one_hot], axis=1)\n",
    "    return df"
   ]
  },
  {
   "cell_type": "code",
   "execution_count": 12,
   "id": "ranking-aerospace",
   "metadata": {},
   "outputs": [],
   "source": [
    "X_train = one_hot_columns(df_train[\"JOB\"], X_train)\n",
    "X_train = one_hot_columns(df_train[\"CAR_TYPE\"], X_train)\n",
    "\n",
    "X_test = one_hot_columns(df_test[\"JOB\"], X_test)\n",
    "X_test = one_hot_columns(df_test[\"CAR_TYPE\"], X_test)\n"
   ]
  },
  {
   "cell_type": "markdown",
   "id": "generous-tower",
   "metadata": {},
   "source": [
    "Finally, we add the columns that do not need this kind of preprocessing"
   ]
  },
  {
   "cell_type": "code",
   "execution_count": 13,
   "id": "ongoing-chemical",
   "metadata": {},
   "outputs": [],
   "source": [
    "X_train[[\"kidsdriv\", \"age\", \"homekids\", \"yoj\", \"travtime\", \"tif\", \"clm_freq\", \"mvr_pts\", \"car_age\"]] =  df_train[[\"KIDSDRIV\", \"AGE\", \"HOMEKIDS\", \"YOJ\", \"TRAVTIME\", \"TIF\", \"CLM_FREQ\", \"MVR_PTS\", \"CAR_AGE\"]]\n",
    "X_test[[\"kidsdriv\", \"age\", \"homekids\", \"yoj\", \"travtime\", \"tif\", \"clm_freq\", \"mvr_pts\", \"car_age\"]] =  df_test[[\"KIDSDRIV\", \"AGE\", \"HOMEKIDS\", \"YOJ\", \"TRAVTIME\", \"TIF\", \"CLM_FREQ\", \"MVR_PTS\", \"CAR_AGE\"]]\n"
   ]
  },
  {
   "cell_type": "code",
   "execution_count": 14,
   "id": "numerous-memorabilia",
   "metadata": {},
   "outputs": [],
   "source": [
    "X_train[\"age\"] = X_train[\"age\"].fillna(int(X_train[\"age\"].mean()))\n",
    "X_test[\"age\"] = X_test[\"age\"].fillna(int(X_test[\"age\"].mean()))\n",
    "\n",
    "X_train[\"yoj\"] = X_train[\"yoj\"].fillna(int(X_train[\"yoj\"].mean()))\n",
    "X_test[\"yoj\"] = X_test[\"yoj\"].fillna(int(X_test[\"yoj\"].mean()))\n",
    "\n",
    "X_train[\"car_age\"] = X_train[\"car_age\"].fillna(int(X_train[\"car_age\"].mean()))\n",
    "X_test[\"car_age\"] = X_test[\"car_age\"].fillna(int(X_test[\"car_age\"].mean()))\n"
   ]
  },
  {
   "cell_type": "code",
   "execution_count": 15,
   "id": "noted-structure",
   "metadata": {},
   "outputs": [
    {
     "data": {
      "text/html": [
       "<div>\n",
       "<style scoped>\n",
       "    .dataframe tbody tr th:only-of-type {\n",
       "        vertical-align: middle;\n",
       "    }\n",
       "\n",
       "    .dataframe tbody tr th {\n",
       "        vertical-align: top;\n",
       "    }\n",
       "\n",
       "    .dataframe thead th {\n",
       "        text-align: right;\n",
       "    }\n",
       "</style>\n",
       "<table border=\"1\" class=\"dataframe\">\n",
       "  <thead>\n",
       "    <tr style=\"text-align: right;\">\n",
       "      <th></th>\n",
       "      <th>home_val</th>\n",
       "      <th>income</th>\n",
       "      <th>oldclaim</th>\n",
       "      <th>bluebook</th>\n",
       "      <th>car_use_is_commercial</th>\n",
       "      <th>is_red_car</th>\n",
       "      <th>is_revoked</th>\n",
       "      <th>is_parent1</th>\n",
       "      <th>is_urban</th>\n",
       "      <th>is_male</th>\n",
       "      <th>...</th>\n",
       "      <th>z_SUV</th>\n",
       "      <th>kidsdriv</th>\n",
       "      <th>age</th>\n",
       "      <th>homekids</th>\n",
       "      <th>yoj</th>\n",
       "      <th>travtime</th>\n",
       "      <th>tif</th>\n",
       "      <th>clm_freq</th>\n",
       "      <th>mvr_pts</th>\n",
       "      <th>car_age</th>\n",
       "    </tr>\n",
       "    <tr>\n",
       "      <th>INDEX</th>\n",
       "      <th></th>\n",
       "      <th></th>\n",
       "      <th></th>\n",
       "      <th></th>\n",
       "      <th></th>\n",
       "      <th></th>\n",
       "      <th></th>\n",
       "      <th></th>\n",
       "      <th></th>\n",
       "      <th></th>\n",
       "      <th></th>\n",
       "      <th></th>\n",
       "      <th></th>\n",
       "      <th></th>\n",
       "      <th></th>\n",
       "      <th></th>\n",
       "      <th></th>\n",
       "      <th></th>\n",
       "      <th></th>\n",
       "      <th></th>\n",
       "      <th></th>\n",
       "    </tr>\n",
       "  </thead>\n",
       "  <tbody>\n",
       "    <tr>\n",
       "      <th>1</th>\n",
       "      <td>0.0</td>\n",
       "      <td>67349.000000</td>\n",
       "      <td>4461.0</td>\n",
       "      <td>14230.0</td>\n",
       "      <td>False</td>\n",
       "      <td>True</td>\n",
       "      <td>False</td>\n",
       "      <td>False</td>\n",
       "      <td>True</td>\n",
       "      <td>True</td>\n",
       "      <td>...</td>\n",
       "      <td>0</td>\n",
       "      <td>0</td>\n",
       "      <td>60.0</td>\n",
       "      <td>0</td>\n",
       "      <td>11.0</td>\n",
       "      <td>14</td>\n",
       "      <td>11</td>\n",
       "      <td>2</td>\n",
       "      <td>3</td>\n",
       "      <td>18.0</td>\n",
       "    </tr>\n",
       "    <tr>\n",
       "      <th>2</th>\n",
       "      <td>257252.0</td>\n",
       "      <td>91449.000000</td>\n",
       "      <td>0.0</td>\n",
       "      <td>14940.0</td>\n",
       "      <td>True</td>\n",
       "      <td>True</td>\n",
       "      <td>False</td>\n",
       "      <td>False</td>\n",
       "      <td>True</td>\n",
       "      <td>True</td>\n",
       "      <td>...</td>\n",
       "      <td>0</td>\n",
       "      <td>0</td>\n",
       "      <td>43.0</td>\n",
       "      <td>0</td>\n",
       "      <td>11.0</td>\n",
       "      <td>22</td>\n",
       "      <td>1</td>\n",
       "      <td>0</td>\n",
       "      <td>0</td>\n",
       "      <td>1.0</td>\n",
       "    </tr>\n",
       "    <tr>\n",
       "      <th>4</th>\n",
       "      <td>124191.0</td>\n",
       "      <td>16039.000000</td>\n",
       "      <td>38690.0</td>\n",
       "      <td>4010.0</td>\n",
       "      <td>False</td>\n",
       "      <td>False</td>\n",
       "      <td>False</td>\n",
       "      <td>False</td>\n",
       "      <td>True</td>\n",
       "      <td>False</td>\n",
       "      <td>...</td>\n",
       "      <td>1</td>\n",
       "      <td>0</td>\n",
       "      <td>35.0</td>\n",
       "      <td>1</td>\n",
       "      <td>10.0</td>\n",
       "      <td>5</td>\n",
       "      <td>4</td>\n",
       "      <td>2</td>\n",
       "      <td>3</td>\n",
       "      <td>10.0</td>\n",
       "    </tr>\n",
       "    <tr>\n",
       "      <th>5</th>\n",
       "      <td>306251.0</td>\n",
       "      <td>61898.094609</td>\n",
       "      <td>0.0</td>\n",
       "      <td>15440.0</td>\n",
       "      <td>False</td>\n",
       "      <td>True</td>\n",
       "      <td>False</td>\n",
       "      <td>False</td>\n",
       "      <td>True</td>\n",
       "      <td>True</td>\n",
       "      <td>...</td>\n",
       "      <td>0</td>\n",
       "      <td>0</td>\n",
       "      <td>51.0</td>\n",
       "      <td>0</td>\n",
       "      <td>14.0</td>\n",
       "      <td>32</td>\n",
       "      <td>7</td>\n",
       "      <td>0</td>\n",
       "      <td>0</td>\n",
       "      <td>6.0</td>\n",
       "    </tr>\n",
       "    <tr>\n",
       "      <th>6</th>\n",
       "      <td>243925.0</td>\n",
       "      <td>114986.000000</td>\n",
       "      <td>19217.0</td>\n",
       "      <td>18000.0</td>\n",
       "      <td>False</td>\n",
       "      <td>False</td>\n",
       "      <td>True</td>\n",
       "      <td>False</td>\n",
       "      <td>True</td>\n",
       "      <td>False</td>\n",
       "      <td>...</td>\n",
       "      <td>1</td>\n",
       "      <td>0</td>\n",
       "      <td>50.0</td>\n",
       "      <td>0</td>\n",
       "      <td>10.0</td>\n",
       "      <td>36</td>\n",
       "      <td>1</td>\n",
       "      <td>2</td>\n",
       "      <td>3</td>\n",
       "      <td>17.0</td>\n",
       "    </tr>\n",
       "  </tbody>\n",
       "</table>\n",
       "<p>5 rows × 36 columns</p>\n",
       "</div>"
      ],
      "text/plain": [
       "       home_val         income  oldclaim  bluebook  car_use_is_commercial  \\\n",
       "INDEX                                                                       \n",
       "1           0.0   67349.000000    4461.0   14230.0                  False   \n",
       "2      257252.0   91449.000000       0.0   14940.0                   True   \n",
       "4      124191.0   16039.000000   38690.0    4010.0                  False   \n",
       "5      306251.0   61898.094609       0.0   15440.0                  False   \n",
       "6      243925.0  114986.000000   19217.0   18000.0                  False   \n",
       "\n",
       "       is_red_car  is_revoked  is_parent1  is_urban  is_male  ...  z_SUV  \\\n",
       "INDEX                                                         ...          \n",
       "1            True       False       False      True     True  ...      0   \n",
       "2            True       False       False      True     True  ...      0   \n",
       "4           False       False       False      True    False  ...      1   \n",
       "5            True       False       False      True     True  ...      0   \n",
       "6           False        True       False      True    False  ...      1   \n",
       "\n",
       "       kidsdriv   age  homekids   yoj  travtime  tif  clm_freq  mvr_pts  \\\n",
       "INDEX                                                                     \n",
       "1             0  60.0         0  11.0        14   11         2        3   \n",
       "2             0  43.0         0  11.0        22    1         0        0   \n",
       "4             0  35.0         1  10.0         5    4         2        3   \n",
       "5             0  51.0         0  14.0        32    7         0        0   \n",
       "6             0  50.0         0  10.0        36    1         2        3   \n",
       "\n",
       "       car_age  \n",
       "INDEX           \n",
       "1         18.0  \n",
       "2          1.0  \n",
       "4         10.0  \n",
       "5          6.0  \n",
       "6         17.0  \n",
       "\n",
       "[5 rows x 36 columns]"
      ]
     },
     "execution_count": 15,
     "metadata": {},
     "output_type": "execute_result"
    }
   ],
   "source": [
    "X_train.head()"
   ]
  },
  {
   "cell_type": "markdown",
   "id": "threaded-concert",
   "metadata": {},
   "source": [
    "Last step, extract a validation set from the training set"
   ]
  },
  {
   "cell_type": "code",
   "execution_count": 16,
   "id": "appreciated-criminal",
   "metadata": {},
   "outputs": [],
   "source": [
    "X_tr, X_val, y_tr, y_val = train_test_split(X_train, y_train, test_size=0.2, random_state=42, stratify=y_train)"
   ]
  },
  {
   "cell_type": "code",
   "execution_count": 17,
   "id": "powerful-fight",
   "metadata": {},
   "outputs": [
    {
     "name": "stdout",
     "output_type": "stream",
     "text": [
      "The positive class represents 26.38% of the training set\n",
      "The positive class represents 26.39% of the validation set\n"
     ]
    }
   ],
   "source": [
    "print(f\"The positive class represents {y_tr.sum() / len(X_tr)* 100:.2f}% of the training set\")\n",
    "print(f\"The positive class represents {y_val.sum() / len(X_val)* 100:.2f}% of the validation set\")"
   ]
  },
  {
   "cell_type": "markdown",
   "id": "collected-given",
   "metadata": {},
   "source": [
    "# Models"
   ]
  },
  {
   "cell_type": "markdown",
   "id": "bibliographic-corporation",
   "metadata": {},
   "source": [
    "This is a classification problem, so we can start by using a SVM."
   ]
  },
  {
   "cell_type": "code",
   "execution_count": 18,
   "id": "naked-given",
   "metadata": {},
   "outputs": [],
   "source": [
    "clf = make_pipeline(StandardScaler(), SVC(gamma='auto', C=100, kernel='linear'))\n",
    "clf.fit(X_tr, y_tr)"
   ]
  },
  {
   "cell_type": "code",
   "execution_count": 22,
   "id": "numerous-discipline",
   "metadata": {},
   "outputs": [
    {
     "data": {
      "text/plain": [
       "0.7879901960784313"
      ]
     },
     "execution_count": 22,
     "metadata": {},
     "output_type": "execute_result"
    }
   ],
   "source": [
    "y_tr_pred = clf.predict(X_tr)\n",
    "y_val_pred = clf.predict(X_val)\n",
    "clf.score(X_tr, y_tr)"
   ]
  },
  {
   "cell_type": "code",
   "execution_count": 23,
   "id": "necessary-homework",
   "metadata": {},
   "outputs": [
    {
     "data": {
      "text/plain": [
       "0.7985303123086344"
      ]
     },
     "execution_count": 23,
     "metadata": {},
     "output_type": "execute_result"
    }
   ],
   "source": [
    "clf.score(X_val, y_val)"
   ]
  },
  {
   "cell_type": "code",
   "execution_count": 24,
   "id": "oriented-helena",
   "metadata": {},
   "outputs": [
    {
     "name": "stdout",
     "output_type": "stream",
     "text": [
      "***************Training Scores***************\n",
      "Recall: 0.3641114982578397\n",
      "Precision: 0.6844978165938864\n",
      "F1: 0.4753601213040182\n",
      "***************Training Scores***************\n",
      "Recall: 0.382830626450116\n",
      "Precision: 0.7236842105263158\n",
      "F1: 0.5007587253414264\n"
     ]
    }
   ],
   "source": [
    "print(15*\"*\" + \"Training Scores\" + 15*\"*\")\n",
    "print(\"Recall: {}\".format(recall_score(y_tr, y_tr_pred)))\n",
    "print(\"Precision: {}\".format(precision_score(y_tr, y_tr_pred)))\n",
    "print(\"F1: {}\".format(f1_score(y_tr, y_tr_pred)))\n",
    "\n",
    "print(15*\"*\" + \"Training Scores\" + 15*\"*\")\n",
    "print(\"Recall: {}\".format(recall_score(y_val, y_val_pred)))\n",
    "print(\"Precision: {}\".format(precision_score(y_val, y_val_pred)))\n",
    "print(\"F1: {}\".format(f1_score(y_val, y_val_pred)))"
   ]
  },
  {
   "cell_type": "markdown",
   "id": "neither-limit",
   "metadata": {},
   "source": [
    "We can continue by using a Random Forest classifier"
   ]
  },
  {
   "cell_type": "code",
   "execution_count": 36,
   "id": "metallic-guitar",
   "metadata": {},
   "outputs": [
    {
     "data": {
      "text/plain": [
       "GridSearchCV(cv=10, estimator=RandomForestClassifier(random_state=42),\n",
       "             param_grid={'max_depth': [5, 25, 50],\n",
       "                         'max_features': ['sqrt', 'log2', 'auto'],\n",
       "                         'min_samples_leaf': [2, 5, 10],\n",
       "                         'n_estimators': [5, 25, 50, 100]},\n",
       "             scoring='accuracy')"
      ]
     },
     "execution_count": 36,
     "metadata": {},
     "output_type": "execute_result"
    }
   ],
   "source": [
    "RF = RandomForestClassifier(criterion=\"gini\", random_state=42)\n",
    "p_grid_RF = {'max_depth': [5, 25, 50],\n",
    "             'n_estimators': [5, 25, 50, 100],\n",
    "             'min_samples_leaf': [2, 5, 10],\n",
    "             'max_features': ['sqrt','log2', 'auto']}   \n",
    "\n",
    "grid_RF = GridSearchCV(estimator=RF, param_grid=p_grid_RF, scoring='accuracy', cv=10)\n",
    "grid_RF.fit(X_tr, y_tr)"
   ]
  },
  {
   "cell_type": "code",
   "execution_count": 37,
   "id": "affected-island",
   "metadata": {},
   "outputs": [
    {
     "name": "stdout",
     "output_type": "stream",
     "text": [
      "Best params: {'max_depth': 50, 'max_features': 'sqrt', 'min_samples_leaf': 2, 'n_estimators': 100}\n"
     ]
    }
   ],
   "source": [
    "print(\"Best params: {}\".format(grid_RF.best_params_))"
   ]
  },
  {
   "cell_type": "code",
   "execution_count": 39,
   "id": "taken-freight",
   "metadata": {},
   "outputs": [
    {
     "name": "stdout",
     "output_type": "stream",
     "text": [
      "***************Training Scores***************\n",
      "Recall: 0.9123112659698026\n",
      "Precision: 1.0\n",
      "F1: 0.9541451563923475\n",
      "***************Validation Scores***************\n",
      "Recall: 0.4060324825986079\n",
      "Precision: 0.7172131147540983\n",
      "F1: 0.5185185185185185\n"
     ]
    }
   ],
   "source": [
    "best_RF = RandomForestClassifier(criterion=\"gini\", random_state=42,\n",
    "                                 max_depth= 50,\n",
    "                                 max_features=\"sqrt\",\n",
    "                                 min_samples_leaf=2,\n",
    "                                 n_estimators=100)\n",
    "best_RF.fit(X_tr, y_tr)\n",
    "\n",
    "y_tr_pred = best_RF.predict(X_tr)\n",
    "y_val_pred = best_RF.predict(X_val)\n",
    "\n",
    "print(15*\"*\" + \"Training Scores\" + 15*\"*\")\n",
    "print(\"Recall: {}\".format(recall_score(y_tr, y_tr_pred)))\n",
    "print(\"Precision: {}\".format(precision_score(y_tr, y_tr_pred)))\n",
    "print(\"F1: {}\".format(f1_score(y_tr, y_tr_pred)))\n",
    "\n",
    "\n",
    "print(15*\"*\" + \"Validation Scores\" + 15*\"*\")\n",
    "print(\"Recall: {}\".format(recall_score(y_val, y_val_pred)))\n",
    "print(\"Precision: {}\".format(precision_score(y_val, y_val_pred)))\n",
    "print(\"F1: {}\".format(f1_score(y_val, y_val_pred)))"
   ]
  },
  {
   "cell_type": "markdown",
   "id": "northern-generic",
   "metadata": {},
   "source": [
    "These scores show that while the training set has good precision and recall, there is an overfitting problem on the validation set, with low scores overall compared to the training. The main problem comes from the recall, meaning that our model is mediocre on recognizing the positive classes on our validation set."
   ]
  },
  {
   "cell_type": "code",
   "execution_count": 31,
   "id": "african-rotation",
   "metadata": {},
   "outputs": [
    {
     "name": "stdout",
     "output_type": "stream",
     "text": [
      "Feature ranking:\n",
      "1. feature 1 representing income (0.082431)\n",
      "2. feature 3 representing bluebook (0.080632)\n",
      "3. feature 31 representing travtime (0.074805)\n",
      "4. feature 2 representing oldclaim (0.071171)\n",
      "5. feature 28 representing age (0.070542)\n",
      "6. feature 0 representing home_val (0.067415)\n",
      "7. feature 34 representing mvr_pts (0.054698)\n",
      "8. feature 8 representing is_urban (0.053317)\n",
      "9. feature 35 representing car_age (0.051348)\n",
      "10. feature 30 representing yoj (0.045907)\n",
      "11. feature 32 representing tif (0.044292)\n",
      "12. feature 33 representing clm_freq (0.037636)\n",
      "13. feature 11 representing education (0.032005)\n",
      "14. feature 29 representing homekids (0.023038)\n",
      "15. feature 4 representing car_use_is_commercial (0.020343)\n",
      "16. feature 6 representing is_revoked (0.019844)\n",
      "17. feature 27 representing kidsdriv (0.015829)\n",
      "18. feature 21 representing Minivan (0.015526)\n",
      "19. feature 10 representing is_married (0.015112)\n",
      "20. feature 7 representing is_parent1 (0.014070)\n",
      "21. feature 16 representing Manager (0.012853)\n",
      "22. feature 20 representing z_Blue Collar (0.012821)\n",
      "23. feature 9 representing is_male (0.010137)\n",
      "24. feature 26 representing z_SUV (0.010021)\n",
      "25. feature 5 representing is_red_car (0.009989)\n",
      "26. feature 24 representing Sports Car (0.008166)\n",
      "27. feature 12 representing Clerical (0.006880)\n",
      "28. feature 23 representing Pickup (0.006870)\n",
      "29. feature 25 representing Van (0.005618)\n",
      "30. feature 18 representing Professional (0.005573)\n",
      "31. feature 19 representing Student (0.005441)\n",
      "32. feature 22 representing Panel Truck (0.004136)\n",
      "33. feature 15 representing Lawyer (0.003961)\n",
      "34. feature 14 representing Home Maker (0.003957)\n",
      "35. feature 17 representing None (0.002837)\n",
      "36. feature 13 representing Doctor (0.000784)\n"
     ]
    },
    {
     "data": {
      "image/png": "[encoded data removed]",
      "text/plain": [
       "<Figure size 720x360 with 1 Axes>"
      ]
     },
     "metadata": {
      "needs_background": "light"
     },
     "output_type": "display_data"
    }
   ],
   "source": [
    "importances = best_RF.feature_importances_\n",
    "indices = np.argsort(importances)[::-1]\n",
    "labels = X_tr.columns\n",
    "\n",
    "# Print the feature ranking\n",
    "print(\"Feature ranking:\")\n",
    "\n",
    "for f in range(36):\n",
    "    print(\"%d. feature %d representing %s (%f)\" % (f + 1, indices[f], labels[indices[f]], importances[indices[f]]))\n",
    "\n",
    "# Plot the feature importances of the forest\n",
    "plt.figure()\n",
    "plt.title(\"Feature importance\")\n",
    "plt.bar(range(36), importances[indices[0:36]], color=\"r\", align=\"center\")\n",
    "plt.xticks(range(36), indices[0:36])\n",
    "plt.xlim([-1, 36])\n",
    "plt.show()"
   ]
  },
  {
   "cell_type": "markdown",
   "id": "laughing-sleep",
   "metadata": {},
   "source": [
    "# Generate a CSV file with the predictions"
   ]
  },
  {
   "cell_type": "markdown",
   "id": "considered-scanning",
   "metadata": {},
   "source": [
    "Let's save the predictions obtained with the random forests."
   ]
  },
  {
   "cell_type": "code",
   "execution_count": 40,
   "id": "decent-organ",
   "metadata": {},
   "outputs": [
    {
     "name": "stdout",
     "output_type": "stream",
     "text": [
      "saving predictions to Y_test.csv\n",
      "saved predictions\n"
     ]
    }
   ],
   "source": [
    "path = \"Y_test.csv\"\n",
    "y_te_pred = best_RF.predict(X_test).tolist()\n",
    "y_test[\"TARGET_FLAG\"] = y_te_pred\n",
    "\n",
    "print(\"saving predictions to \" + path)\n",
    "y_test.to_csv(path, index=True, index_label=\"INDEX\")\n",
    "print(\"saved predictions\")"
   ]
  },
  {
   "cell_type": "code",
   "execution_count": null,
   "id": "pointed-vaccine",
   "metadata": {},
   "outputs": [],
   "source": []
  }
 ],
 "metadata": {
  "kernelspec": {
   "display_name": "Python 3",
   "language": "python",
   "name": "python3"
  },
  "language_info": {
   "codemirror_mode": {
    "name": "ipython",
    "version": 3
   },
   "file_extension": ".py",
   "mimetype": "text/x-python",
   "name": "python",
   "nbconvert_exporter": "python",
   "pygments_lexer": "ipython3",
   "version": "3.7.1"
  }
 },
 "nbformat": 4,
 "nbformat_minor": 5
}
